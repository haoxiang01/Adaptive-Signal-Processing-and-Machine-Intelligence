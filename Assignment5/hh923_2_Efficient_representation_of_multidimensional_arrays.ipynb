{
 "cells": [
  {
   "cell_type": "code",
   "execution_count": 2,
   "metadata": {},
   "outputs": [],
   "source": [
    "%load_ext autoreload\n",
    "%autoreload 2\n",
    "%matplotlib inline"
   ]
  },
  {
   "cell_type": "code",
   "execution_count": 3,
   "metadata": {},
   "outputs": [],
   "source": [
    "import numpy as np\n",
    "import matplotlib.pyplot as plt\n",
    "from hottbox.core import Tensor, TensorCPD, TensorTKD"
   ]
  },
  {
   "cell_type": "markdown",
   "metadata": {
    "toc-hr-collapsed": false
   },
   "source": [
    "[Return to Table of Contents](./0_Table_of_contents.ipynb)"
   ]
  },
  {
   "cell_type": "markdown",
   "metadata": {},
   "source": [
    "# Efficient representation of multidimensional arrays\n",
    "\n",
    "A tensor of order $N$ is said to be of **rank-1** if it can be represented as an outer product of $N$ vectors. \n",
    "\n",
    "The figure below illustrates an example of a rank-1 tensor $\\mathbf{\\underline{X}}$ and provides intuition on how to compute the operation of outer product:\n",
    "\n",
    "<img src=\"./imgs/outerproduct.png\" alt=\"Drawing\" style=\"width: 500px;\"/>\n"
   ]
  },
  {
   "cell_type": "markdown",
   "metadata": {
    "toc-hr-collapsed": false
   },
   "source": [
    "# Kruskal representation\n",
    "\n",
    "For a third order tensor or rank $R$ the Kruskal representation can be expressed as follows:\n",
    "\n",
    "$$\n",
    "\\mathbf{\\underline{X}} = \\sum_{r=1}^R \\mathbf{\\underline{X}}_r = \\sum_{r=1}^R \\lambda_{r} \\cdot \\mathbf{a}_r \\circ \\mathbf{b}_r \\circ \\mathbf{c}_r\n",
    "$$\n",
    "\n",
    "The vectors $\\mathbf{a}_r, \\mathbf{b}_r$ and $\\mathbf{c}_r$ are oftentime combined into the corresponding **factor matrices**:\n",
    "\n",
    "$$\n",
    "\\mathbf{A} = \\Big[ \\mathbf{a}_1 \\cdots \\mathbf{a}_R \\Big] \\quad\n",
    "\\mathbf{B} = \\Big[ \\mathbf{b}_1 \\cdots \\mathbf{b}_R \\Big] \\quad\n",
    "\\mathbf{C} = \\Big[ \\mathbf{c}_1 \\cdots \\mathbf{c}_R \\Big] \\quad\n",
    "$$\n",
    "\n",
    "Thus, if we employ the mode-$n$ product, the **Kruskal representation** takes the form:\n",
    "\n",
    "$$\n",
    "\\mathbf{\\underline{X}} = \\mathbf{\\underline{\\Lambda}} \\times_1 \\mathbf{A} \\times_2 \\mathbf{B} \\times_3 \\mathbf{C} = \\Big[\\mathbf{\\underline{\\Lambda}}; \\mathbf{A}, \\mathbf{B}, \\mathbf{C} \\Big]\n",
    "$$\n",
    "\n",
    "where the elements on the super-diagonal of the core tensor $\\mathbf{\\underline{\\Lambda}}$ are occupied by the values $\\lambda_r$ and all other entries are equal to zero. This can be visualised as shown on figure below:\n",
    "\n",
    "<img src=\"./imgs/TensorCPD.png\" alt=\"Drawing\" style=\"width: 500px;\"/>\n"
   ]
  },
  {
   "cell_type": "code",
   "execution_count": 4,
   "metadata": {},
   "outputs": [
    {
     "name": "stdout",
     "output_type": "stream",
     "text": [
      "Kruskal representation of a tensor with rank=(2,).\n",
      "Factor matrices represent properties: ['mode-0', 'mode-1', 'mode-2']\n",
      "With corresponding latent components described by (3, 4, 5) features respectively.\n"
     ]
    }
   ],
   "source": [
    "# Create factor matrices\n",
    "I, J, K = 3, 4, 5\n",
    "R = 2\n",
    "\n",
    "A = np.arange(I * R).reshape(I, R)\n",
    "B = np.arange(J * R).reshape(J, R)\n",
    "C = np.arange(K * R).reshape(K, R)\n",
    "\n",
    "# Create core values\n",
    "values = np.arange(R)\n",
    "\n",
    "# Create Kruskal representation\n",
    "tensor_cpd = TensorCPD(fmat=[A, B, C], core_values=values)\n",
    "\n",
    "# Result preview\n",
    "print(tensor_cpd)"
   ]
  },
  {
   "cell_type": "markdown",
   "metadata": {},
   "source": [
    "## **Assigment 1**\n",
    "\n",
    "1. What is the order of a tensor if its Kruskal representation consists of 5 factor matrices.\n",
    "\n",
    "2. What is the order of a tensor if its Kruskal representation consists of core tensor which has only 5 elements on the super-diagonal.\n",
    "\n",
    "3. For a 3-rd order tensor that consists of 500 elements, provide three different Kruskal representations.\n",
    "\n",
    "4. For a tensor that consits of 1000 elements, provide three Kruskal representations, each of which should have different number of factor matrices.\n",
    "\n",
    "5. For a 4-th order tensor that consists of 2401 elements, provide Kruskal representation if its core tensor consisting of 81 elements.\n"
   ]
  },
  {
   "cell_type": "markdown",
   "metadata": {},
   "source": [
    "### Solution: Part 1"
   ]
  },
  {
   "cell_type": "code",
   "execution_count": 24,
   "metadata": {},
   "outputs": [
    {
     "name": "stdout",
     "output_type": "stream",
     "text": [
      "The order of a tensor is 5 if the Kruskal repsentation consists of 5 factor matrices.\n"
     ]
    }
   ],
   "source": [
    "# Create factor matrices\n",
    "I, J, K, M, N,= 3, 4, 5, 1, 2\n",
    "R = 2\n",
    "\n",
    "A = np.arange(I * R).reshape(I, R)\n",
    "B = np.arange(J * R).reshape(J, R)\n",
    "C = np.arange(K * R).reshape(K, R)\n",
    "D = np.arange(M * R).reshape(M, R)\n",
    "E = np.arange(N * R).reshape(N, R)\n",
    "\n",
    "# Create core values\n",
    "values = np.arange(R)\n",
    "\n",
    "# Create Kruskal representation\n",
    "tensor_cpd = TensorCPD(fmat=[A, B, C,D,E], core_values=values)\n",
    "\n",
    "# use this variable for your answer\n",
    "answer_1_1 = f\"The order of a tensor is {tensor_cpd.order} if the Kruskal repsentation consists of 5 factor matrices.\"\n",
    "\n",
    "print(answer_1_1)"
   ]
  },
  {
   "cell_type": "markdown",
   "metadata": {},
   "source": [
    "### Solution: Part 2"
   ]
  },
  {
   "cell_type": "code",
   "execution_count": 69,
   "metadata": {},
   "outputs": [
    {
     "name": "stdout",
     "output_type": "stream",
     "text": [
      "Experiment1: The order and rank of a tensor is 3 and 5 respectively, if the Kruskal repsentation consists of 3 factor matrices and 5 core values.\n",
      "Experiment2: The order and rank of a tensor is 5 and 5 respectively, if the Kruskal repsentation consists of 5 factor matrices and 5 core values.\n",
      "\n",
      "Answer: The tensor's order in Kruskal representation is determined by the number of factor matrices, rather than the core tensor's elements along its super-diagonal. However, the tensor's rank is equal to the core tensor's super-diagonal element count.\n"
     ]
    }
   ],
   "source": [
    "# Create factor matrices\n",
    "I, J, K, M, N,= 3, 4, 5, 1, 2\n",
    "R = 5\n",
    "\n",
    "A = np.arange(I * R).reshape(I, R)\n",
    "B = np.arange(J * R).reshape(J, R)\n",
    "C = np.arange(K * R).reshape(K, R)\n",
    "D = np.arange(M * R).reshape(M, R)\n",
    "E = np.arange(N * R).reshape(N, R)\n",
    "\n",
    "# Create 5 core values\n",
    "values = np.arange(R)\n",
    "\n",
    "# Create Kruskal representation\n",
    "tensor_cpd_3 = TensorCPD(fmat=[A, B, C], core_values=values)\n",
    "tensor_cpd_5 = TensorCPD(fmat=[A, B, C, D, E], core_values=values)\n",
    "\n",
    "print(f\"Experiment1: The order and rank of a tensor is {tensor_cpd_3.order} and {tensor_cpd_3.rank[0]} respectively, if the Kruskal repsentation consists of 3 factor matrices and 5 core values.\")\n",
    "print(f\"Experiment2: The order and rank of a tensor is {tensor_cpd_5.order} and {tensor_cpd_3.rank[0]} respectively, if the Kruskal repsentation consists of 5 factor matrices and 5 core values.\")\n",
    "\n",
    "# use this variable for your answer\n",
    "answer_1_2 = \"\\nAnswer: The tensor's order in Kruskal representation is determined by the number of factor matrices, rather than the core tensor's elements along its super-diagonal. However, the tensor's rank is equal to the core tensor's super-diagonal element count.\"  \n",
    "\n",
    "print(answer_1_2)"
   ]
  },
  {
   "cell_type": "markdown",
   "metadata": {},
   "source": [
    "### Solution: Part 3"
   ]
  },
  {
   "cell_type": "code",
   "execution_count": 55,
   "metadata": {},
   "outputs": [
    {
     "name": "stdout",
     "output_type": "stream",
     "text": [
      "This tensor is of order 3 and consists of 500 elements.\n",
      "Sizes and names of its modes are (25, 4, 5) and ['mode-0', 'mode-1', 'mode-2'] respectively.\n",
      "\n",
      "\n",
      "Kruskal representation of a tensor with rank=(4,).\n",
      "Factor matrices represent properties: ['mode-0', 'mode-1', 'mode-2']\n",
      "With corresponding latent components described by (25, 4, 5) features respectively.\n"
     ]
    }
   ],
   "source": [
    "# First representation\n",
    "I, J, K = 5, 10, 10\n",
    "R = 5\n",
    "\n",
    "A = np.arange(I * R).reshape(I, R)\n",
    "B = np.arange(J * R).reshape(J, R)\n",
    "C = np.arange(K * R).reshape(K, R)\n",
    "\n",
    "# Create core values\n",
    "values = np.arange(R)\n",
    "\n",
    "# Create Kruskal representation\n",
    "tensor_cpd1 = TensorCPD(fmat=[A, B, C], core_values=values)\n",
    "\n",
    "# Result preview\n",
    "print(tensor_cpd.reconstruct())\n",
    "print('\\n')\n",
    "print(tensor_cpd)"
   ]
  },
  {
   "cell_type": "code",
   "execution_count": 54,
   "metadata": {},
   "outputs": [
    {
     "name": "stdout",
     "output_type": "stream",
     "text": [
      "This tensor is of order 3 and consists of 500 elements.\n",
      "Sizes and names of its modes are (25, 4, 5) and ['mode-0', 'mode-1', 'mode-2'] respectively.\n",
      "\n",
      "\n",
      "Kruskal representation of a tensor with rank=(4,).\n",
      "Factor matrices represent properties: ['mode-0', 'mode-1', 'mode-2']\n",
      "With corresponding latent components described by (25, 4, 5) features respectively.\n"
     ]
    }
   ],
   "source": [
    "# Second representation\n",
    "I, J, K = 25, 4, 5\n",
    "R = 4\n",
    "\n",
    "A = np.arange(I * R).reshape(I, R)\n",
    "B = np.arange(J * R).reshape(J, R)\n",
    "C = np.arange(K * R).reshape(K, R)\n",
    "\n",
    "# Create core values\n",
    "values = np.arange(R)\n",
    "\n",
    "# Create Kruskal representation\n",
    "tensor_cpd = TensorCPD(fmat=[A, B, C], core_values=values)\n",
    "\n",
    "# Result preview\n",
    "print(tensor_cpd.reconstruct())\n",
    "print('\\n')\n",
    "print(tensor_cpd)"
   ]
  },
  {
   "cell_type": "code",
   "execution_count": 56,
   "metadata": {},
   "outputs": [
    {
     "name": "stdout",
     "output_type": "stream",
     "text": [
      "This tensor is of order 3 and consists of 500 elements.\n",
      "Sizes and names of its modes are (50, 5, 2) and ['mode-0', 'mode-1', 'mode-2'] respectively.\n",
      "\n",
      "\n",
      "Kruskal representation of a tensor with rank=(3,).\n",
      "Factor matrices represent properties: ['mode-0', 'mode-1', 'mode-2']\n",
      "With corresponding latent components described by (50, 5, 2) features respectively.\n"
     ]
    }
   ],
   "source": [
    "# Third representation\n",
    "I , J , K = 50 , 5 , 2\n",
    "R = 3\n",
    "\n",
    "A = np.arange(I * R).reshape(I, R)\n",
    "B = np.arange(J * R).reshape(J, R)\n",
    "C = np.arange(K * R).reshape(K, R)\n",
    "\n",
    "# Create core values\n",
    "values = np.arange(R)\n",
    "\n",
    "# Create Kruskal representation\n",
    "tensor_cpd = TensorCPD(fmat=[A, B, C], core_values=values)\n",
    "\n",
    "# Result preview\n",
    "print(tensor_cpd.reconstruct())\n",
    "print('\\n')\n",
    "print(tensor_cpd)"
   ]
  },
  {
   "cell_type": "markdown",
   "metadata": {
    "toc-hr-collapsed": false
   },
   "source": [
    "### Solution: Part 4"
   ]
  },
  {
   "cell_type": "code",
   "execution_count": 62,
   "metadata": {},
   "outputs": [
    {
     "name": "stdout",
     "output_type": "stream",
     "text": [
      "This tensor is of order 2 and consists of 1000 elements.\n",
      "Sizes and names of its modes are (100, 10) and ['mode-0', 'mode-1'] respectively.\n",
      "\n",
      "\n",
      "Kruskal representation of a tensor with rank=(3,).\n",
      "Factor matrices represent properties: ['mode-0', 'mode-1']\n",
      "With corresponding latent components described by (100, 10) features respectively.\n"
     ]
    }
   ],
   "source": [
    "# First representation\n",
    "I , J = 100, 10\n",
    "R = 3\n",
    "\n",
    "\n",
    "A = np.arange(I * R).reshape(I, R)\n",
    "B = np.arange(J * R).reshape(J, R)\n",
    "\n",
    "# Create core values\n",
    "values = np.arange(R)\n",
    "\n",
    "# Create Kruskal representation\n",
    "tensor_cpd = TensorCPD(fmat=[A, B], core_values=values)\n",
    "\n",
    "# Result preview\n",
    "print(tensor_cpd.reconstruct())\n",
    "print('\\n')\n",
    "print(tensor_cpd)"
   ]
  },
  {
   "cell_type": "code",
   "execution_count": 63,
   "metadata": {},
   "outputs": [
    {
     "name": "stdout",
     "output_type": "stream",
     "text": [
      "This tensor is of order 3 and consists of 1000 elements.\n",
      "Sizes and names of its modes are (10, 10, 10) and ['mode-0', 'mode-1', 'mode-2'] respectively.\n",
      "\n",
      "\n",
      "Kruskal representation of a tensor with rank=(4,).\n",
      "Factor matrices represent properties: ['mode-0', 'mode-1', 'mode-2']\n",
      "With corresponding latent components described by (10, 10, 10) features respectively.\n"
     ]
    }
   ],
   "source": [
    "# Second representation\n",
    "\n",
    "I, J, K = 10, 10, 10\n",
    "R = 4\n",
    "\n",
    "A = np.arange(I * R).reshape(I, R)\n",
    "B = np.arange(J * R).reshape(J, R)\n",
    "C = np.arange(K * R).reshape(K, R)\n",
    "\n",
    "# Create core values\n",
    "values = np.arange(R)\n",
    "\n",
    "# Create Kruskal representation\n",
    "tensor_cpd = TensorCPD(fmat=[A, B, C], core_values=values)\n",
    "\n",
    "# Result preview\n",
    "print(tensor_cpd.reconstruct())\n",
    "print('\\n')\n",
    "print(tensor_cpd)"
   ]
  },
  {
   "cell_type": "code",
   "execution_count": 66,
   "metadata": {},
   "outputs": [
    {
     "name": "stdout",
     "output_type": "stream",
     "text": [
      "This tensor is of order 4 and consists of 1000 elements.\n",
      "Sizes and names of its modes are (10, 10, 5, 2) and ['mode-0', 'mode-1', 'mode-2', 'mode-3'] respectively.\n",
      "\n",
      "\n",
      "Kruskal representation of a tensor with rank=(5,).\n",
      "Factor matrices represent properties: ['mode-0', 'mode-1', 'mode-2', 'mode-3']\n",
      "With corresponding latent components described by (10, 10, 5, 2) features respectively.\n"
     ]
    }
   ],
   "source": [
    "# Third representation\n",
    "\n",
    "I, J, K, M = 10, 10, 5, 2\n",
    "R = 5\n",
    "\n",
    "A = np.arange(I * R).reshape(I, R)\n",
    "B = np.arange(J * R).reshape(J, R)\n",
    "C = np.arange(K * R).reshape(K, R)\n",
    "D = np.arange(M * R).reshape(M, R)\n",
    "# Create core values\n",
    "values = np.arange(R)\n",
    "\n",
    "# Create Kruskal representation\n",
    "tensor_cpd = TensorCPD(fmat=[A, B, C, D], core_values=values)\n",
    "\n",
    "# Result preview\n",
    "print(tensor_cpd.reconstruct())\n",
    "print('\\n')\n",
    "print(tensor_cpd)"
   ]
  },
  {
   "cell_type": "markdown",
   "metadata": {},
   "source": [
    "### Solution: Part 5"
   ]
  },
  {
   "cell_type": "code",
   "execution_count": 68,
   "metadata": {},
   "outputs": [
    {
     "name": "stdout",
     "output_type": "stream",
     "text": [
      "This tensor is of order 4 and consists of 2401 elements.\n",
      "Sizes and names of its modes are (7, 7, 7, 7) and ['mode-0', 'mode-1', 'mode-2', 'mode-3'] respectively.\n",
      "\n",
      "\n",
      "Kruskal representation of a tensor with rank=(3,).\n",
      "Factor matrices represent properties: ['mode-0', 'mode-1', 'mode-2', 'mode-3']\n",
      "With corresponding latent components described by (7, 7, 7, 7) features respectively.\n"
     ]
    }
   ],
   "source": [
    "# Provide Kruskal representation here\n",
    "I, J, K,M=7,7,7,7\n",
    "R = 3 # Total 81 elements = 3x3x3x3 \n",
    "\n",
    "A = np.arange(I * R).reshape(I, R)\n",
    "B = np.arange(J * R).reshape(J, R)\n",
    "C = np.arange(K * R).reshape(K, R)\n",
    "D = np.arange(M * R).reshape(M, R)\n",
    "\n",
    "# Create core values\n",
    "values = np.arange(R)\n",
    "\n",
    "# Create Kruskal representation\n",
    "tensor_cpd = TensorCPD(fmat=[A, B, C, D], core_values=values)\n",
    "\n",
    "# Result preview\n",
    "print(tensor_cpd.reconstruct())\n",
    "print('\\n')\n",
    "print(tensor_cpd)"
   ]
  },
  {
   "cell_type": "markdown",
   "metadata": {
    "toc-hr-collapsed": false
   },
   "source": [
    "# Tucker representation\n",
    "\n"
   ]
  },
  {
   "cell_type": "markdown",
   "metadata": {},
   "source": [
    "<img src=\"./imgs/TensorTKD.png\" alt=\"Drawing\" style=\"width: 600px;\"/>\n",
    "\n",
    "For a tensor $\\mathbf{\\underline{X}} \\in \\mathbb{R}^{I \\times J \\times K}$ illustrated above, the **Tucker form** represents the tensor in hand through a dense core tensor $\\mathbf{\\underline{G}}$ with multi-linear rank ($Q, R, P$) and a set of accompanying factor matrices $\\mathbf{A} \\in \\mathbb{R}^{I \\times Q}, \\mathbf{B} \\in \\mathbb{R}^{J \\times R}$ and $\\mathbf{C} \\in \\mathbb{R}^{K \\times P}$.\n",
    "\n",
    "$$\n",
    "\\mathbf{\\underline{X}} = \\sum_{q=1}^Q \\sum_{r=1}^R \\sum_{p=1}^P \\mathbf{\\underline{X}}_{qrp} = \\sum_{q=1}^Q \\sum_{r=1}^R \\sum_{p=1}^P g_{qrp} \\cdot \\mathbf{a}_q \\circ \\mathbf{b}_r \\circ \\mathbf{c}_p\n",
    "$$\n",
    "\n",
    "The Tucker form of a tensor is closely related to the Kruskal representation and can be expressed through a \n",
    "sequence of mode-$n$ products in a similar way, that is\n",
    "\n",
    "$$\n",
    "\\mathbf{\\underline{X}} = \\mathbf{\\underline{G}} \\times_1 \\mathbf{A} \\times_2 \\mathbf{B} \\times_3 \\mathbf{C} = \\Big[\\mathbf{\\underline{G}}; \\mathbf{A}, \\mathbf{B}, \\mathbf{C} \\Big]\n",
    "$$\n"
   ]
  },
  {
   "cell_type": "code",
   "execution_count": 14,
   "metadata": {},
   "outputs": [
    {
     "name": "stdout",
     "output_type": "stream",
     "text": [
      "Tucker representation of a tensor with multi-linear rank=(2, 3, 4).\n",
      "Factor matrices represent properties: ['mode-0', 'mode-1', 'mode-2']\n",
      "With corresponding latent components described by (5, 6, 7) features respectively.\n"
     ]
    }
   ],
   "source": [
    "# Create factor matrices\n",
    "I, J, K = 5, 6, 7  # define shape of the tensor in full form\n",
    "Q, R, P = 2, 3, 4  # define multi-linear rank of the tensor in Tucker form\n",
    "\n",
    "A = np.arange(I * Q).reshape(I, Q)\n",
    "B = np.arange(J * R).reshape(J, R)\n",
    "C = np.arange(K * P).reshape(K, P)\n",
    "\n",
    "# Create core values\n",
    "values = np.arange(Q * R * P).reshape(Q, R, P)\n",
    "\n",
    "# Create Tucker representation\n",
    "tensor_tkd = TensorTKD(fmat=[A, B, C], core_values=values)\n",
    "\n",
    "# Result preview\n",
    "print(tensor_tkd)"
   ]
  },
  {
   "cell_type": "markdown",
   "metadata": {},
   "source": [
    "## **Assigment 2**\n",
    "\n",
    "1. Core tensor of a Tucker representation consists of 1848 elements. Explain what tensor order should a tensor have to able to be represented in such form.\n",
    "\n",
    "2. For a 4-th order tensor that consists of 1000 elements, provide three different Tucker representations.\n",
    "\n",
    "3. For a 3-rd order tensor that consists of 500 elements, provide three different Tucker representations given that its core tensor consists of 42 elements.\n",
    "\n",
    "4. Provide an intuition behind the main difference between the Tucker and Kruskal representations.\n"
   ]
  },
  {
   "cell_type": "markdown",
   "metadata": {},
   "source": [
    "### Solution: Part 1"
   ]
  },
  {
   "cell_type": "code",
   "execution_count": 88,
   "metadata": {},
   "outputs": [
    {
     "name": "stdout",
     "output_type": "stream",
     "text": [
      "Core:\n",
      "This tensor is of order 6 and consists of 1848 elements.\n",
      "Sizes and names of its modes are (2, 2, 2, 3, 7, 11) and ['mode-0', 'mode-1', 'mode-2', 'mode-3', 'mode-4', 'mode-5'] respectively.\n",
      "\n",
      "\n",
      "Answer: Tensor order less than or equal to 6 can be able to represented, if core tensor of a Tucker representation consists of 1848 elements.\n"
     ]
    }
   ],
   "source": [
    "# Create factor matrices\n",
    "I, J, K, U, V, W = 5, 6, 7, 8, 9, 10 # define shape of the tensor in full form\n",
    "Q, R, P, Z, Y, X = 2, 2, 2, 3, 7, 11 # define multi-linear rank of the tensor in Tucker form\n",
    "\n",
    "A = np.arange(I * Q).reshape(I, Q)\n",
    "B = np.arange(J * R).reshape(J, R)\n",
    "C = np.arange(K * P).reshape(K, P)\n",
    "D = np.arange(U * Z).reshape(U, Z)\n",
    "E = np.arange(V * Y).reshape(V, Y)\n",
    "F = np.arange(W * X).reshape(W, X)\n",
    "\n",
    "# Create core values\n",
    "values = np.arange(Q * R * P * Z * Y * X).reshape(Q, R, P, Z, Y, X)\n",
    "\n",
    "# Create Tucker representation\n",
    "tensor_tkd = TensorTKD(fmat = [A, B, C, D, E, F], core_values=values)\n",
    "\n",
    "# # Result preview\n",
    "# print(tensor_tkd)\n",
    "print('Core:')\n",
    "print(tensor_tkd.core)\n",
    "print('\\n')\n",
    "# tensor_tkd_full=tensor_tkd.reconstruct()\n",
    "# print(tensor_tkd_full)\n",
    "# print('\\n')\n",
    "\n",
    "answer_2_1 = f\"Answer: Tensor order less than or equal to {tensor_tkd.order} can be able to represented, if core tensor of a Tucker representation consists of 1848 elements.\"\n",
    "\n",
    "print(answer_2_1)"
   ]
  },
  {
   "cell_type": "markdown",
   "metadata": {},
   "source": [
    "### Solution: Part 2"
   ]
  },
  {
   "cell_type": "code",
   "execution_count": 78,
   "metadata": {},
   "outputs": [
    {
     "name": "stdout",
     "output_type": "stream",
     "text": [
      "Tucker representation of a tensor with multi-linear rank=(2, 3, 4, 5).\n",
      "Factor matrices represent properties: ['mode-0', 'mode-1', 'mode-2', 'mode-3']\n",
      "With corresponding latent components described by (10, 10, 5, 2) features respectively.\n",
      "\n",
      "\n",
      "This tensor is of order 4 and consists of 1000 elements.\n",
      "Sizes and names of its modes are (10, 10, 5, 2) and ['mode-0', 'mode-1', 'mode-2', 'mode-3'] respectively.\n"
     ]
    }
   ],
   "source": [
    "# First representation\n",
    "I, J, K, U = 10, 10, 5, 2  # define shape of the tensor in full form\n",
    "Q, R, P, Z = 2, 3, 4, 5  # define multi-linear rank of the tensor in Tucker form\n",
    "\n",
    "A = np.arange(I * Q).reshape(I, Q)\n",
    "B = np.arange(J * R).reshape(J, R)\n",
    "C = np.arange(K * P).reshape(K, P)\n",
    "D = np.arange(U * Z).reshape(U, Z)\n",
    "\n",
    "# Create core values\n",
    "values = np.arange(Q * R * P * Z).reshape(Q, R, P, Z)\n",
    "\n",
    "# Create Tucker representation\n",
    "tensor_tkd = TensorTKD(fmat=[A, B, C, D], core_values=values)\n",
    "\n",
    "# Result preview\n",
    "print(tensor_tkd)\n",
    "print('\\n')\n",
    "tensor_tkd_full=tensor_tkd.reconstruct()\n",
    "print(tensor_tkd_full)"
   ]
  },
  {
   "cell_type": "code",
   "execution_count": 79,
   "metadata": {},
   "outputs": [
    {
     "name": "stdout",
     "output_type": "stream",
     "text": [
      "Tucker representation of a tensor with multi-linear rank=(3, 4, 5, 6).\n",
      "Factor matrices represent properties: ['mode-0', 'mode-1', 'mode-2', 'mode-3']\n",
      "With corresponding latent components described by (10, 2, 25, 2) features respectively.\n",
      "\n",
      "\n",
      "This tensor is of order 4 and consists of 1000 elements.\n",
      "Sizes and names of its modes are (10, 2, 25, 2) and ['mode-0', 'mode-1', 'mode-2', 'mode-3'] respectively.\n"
     ]
    }
   ],
   "source": [
    "# Second representation\n",
    "I, J, K, U = 10, 2, 25, 2  # define shape of the tensor in full form\n",
    "Q, R, P, Z = 3, 4, 5, 6 # define multi-linear rank of the tensor in Tucker form\n",
    "\n",
    "A = np.arange(I * Q).reshape(I, Q)\n",
    "B = np.arange(J * R).reshape(J, R)\n",
    "C = np.arange(K * P).reshape(K, P)\n",
    "D = np.arange(U * Z).reshape(U, Z)\n",
    "\n",
    "# Create core values\n",
    "values = np.arange(Q * R * P * Z).reshape(Q, R, P, Z)\n",
    "\n",
    "# Create Tucker representation\n",
    "tensor_tkd = TensorTKD(fmat=[A, B, C, D], core_values=values)\n",
    "\n",
    "# Result preview\n",
    "print(tensor_tkd)\n",
    "print('\\n')\n",
    "tensor_tkd_full=tensor_tkd.reconstruct()\n",
    "print(tensor_tkd_full)"
   ]
  },
  {
   "cell_type": "code",
   "execution_count": 80,
   "metadata": {},
   "outputs": [
    {
     "name": "stdout",
     "output_type": "stream",
     "text": [
      "Tucker representation of a tensor with multi-linear rank=(4, 5, 6, 7).\n",
      "Factor matrices represent properties: ['mode-0', 'mode-1', 'mode-2', 'mode-3']\n",
      "With corresponding latent components described by (5, 4, 25, 2) features respectively.\n",
      "\n",
      "\n",
      "This tensor is of order 4 and consists of 1000 elements.\n",
      "Sizes and names of its modes are (5, 4, 25, 2) and ['mode-0', 'mode-1', 'mode-2', 'mode-3'] respectively.\n"
     ]
    }
   ],
   "source": [
    "# Third representation\n",
    "I, J, K, U = 5, 4, 25, 2  # define shape of the tensor in full form\n",
    "Q, R, P, Z = 4, 5, 6, 7 # define multi-linear rank of the tensor in Tucker form\n",
    "\n",
    "A = np.arange(I * Q).reshape(I, Q)\n",
    "B = np.arange(J * R).reshape(J, R)\n",
    "C = np.arange(K * P).reshape(K, P)\n",
    "D = np.arange(U * Z).reshape(U, Z)\n",
    "\n",
    "# Create core values\n",
    "values = np.arange(Q * R * P * Z).reshape(Q, R, P, Z)\n",
    "\n",
    "# Create Tucker representation\n",
    "tensor_tkd = TensorTKD(fmat=[A, B, C, D], core_values=values)\n",
    "\n",
    "# Result preview\n",
    "print(tensor_tkd)\n",
    "print('\\n')\n",
    "tensor_tkd_full=tensor_tkd.reconstruct()\n",
    "print(tensor_tkd_full)"
   ]
  },
  {
   "cell_type": "markdown",
   "metadata": {},
   "source": [
    "### Solution: Part 3"
   ]
  },
  {
   "cell_type": "code",
   "execution_count": 89,
   "metadata": {},
   "outputs": [
    {
     "name": "stdout",
     "output_type": "stream",
     "text": [
      "Tucker representation of a tensor with multi-linear rank=(1, 6, 7).\n",
      "Factor matrices represent properties: ['mode-0', 'mode-1', 'mode-2']\n",
      "With corresponding latent components described by (5, 2, 50) features respectively.\n",
      "\n",
      "Core:\n",
      "This tensor is of order 3 and consists of 42 elements.\n",
      "Sizes and names of its modes are (1, 6, 7) and ['mode-0', 'mode-1', 'mode-2'] respectively.\n",
      "\n",
      "\n",
      "This tensor is of order 3 and consists of 500 elements.\n",
      "Sizes and names of its modes are (5, 2, 50) and ['mode-0', 'mode-1', 'mode-2'] respectively.\n"
     ]
    }
   ],
   "source": [
    "# First representation\n",
    "I, J, K = 5, 2, 50  # define shape of the tensor in full form\n",
    "Q, R, P = 1, 6, 7  # define multi-linear rank of the tensor in Tucker form\n",
    "\n",
    "A = np.arange(I * Q).reshape(I, Q)\n",
    "B = np.arange(J * R).reshape(J, R)\n",
    "C = np.arange(K * P).reshape(K, P)\n",
    "\n",
    "# Create core values\n",
    "values = np.arange(Q * R * P).reshape(Q, R, P)\n",
    "\n",
    "# Create Tucker representation\n",
    "tensor_tkd = TensorTKD(fmat=[A, B, C], core_values=values)\n",
    "\n",
    "# Result preview\n",
    "print(tensor_tkd)\n",
    "print('\\nCore:')\n",
    "print(tensor_tkd.core)\n",
    "print('\\n')\n",
    "tensor_tkd_full=tensor_tkd.reconstruct()\n",
    "print(tensor_tkd_full)"
   ]
  },
  {
   "cell_type": "code",
   "execution_count": 90,
   "metadata": {},
   "outputs": [
    {
     "name": "stdout",
     "output_type": "stream",
     "text": [
      "Tucker representation of a tensor with multi-linear rank=(2, 3, 7).\n",
      "Factor matrices represent properties: ['mode-0', 'mode-1', 'mode-2']\n",
      "With corresponding latent components described by (4, 5, 25) features respectively.\n",
      "\n",
      "Core:\n",
      "This tensor is of order 3 and consists of 42 elements.\n",
      "Sizes and names of its modes are (2, 3, 7) and ['mode-0', 'mode-1', 'mode-2'] respectively.\n",
      "\n",
      "\n",
      "This tensor is of order 3 and consists of 500 elements.\n",
      "Sizes and names of its modes are (4, 5, 25) and ['mode-0', 'mode-1', 'mode-2'] respectively.\n"
     ]
    }
   ],
   "source": [
    "# Second representation\n",
    "I, J, K = 4, 5, 25  # define shape of the tensor in full form\n",
    "Q, R, P = 2, 3, 7  # define multi-linear rank of the tensor in Tucker form\n",
    "\n",
    "A = np.arange(I * Q).reshape(I, Q)\n",
    "B = np.arange(J * R).reshape(J, R)\n",
    "C = np.arange(K * P).reshape(K, P)\n",
    "\n",
    "# Create core values\n",
    "values = np.arange(Q * R * P).reshape(Q, R, P)\n",
    "\n",
    "# Create Tucker representation\n",
    "tensor_tkd = TensorTKD(fmat=[A, B, C], core_values=values)\n",
    "\n",
    "# Result preview\n",
    "print(tensor_tkd)\n",
    "print('\\nCore:')\n",
    "print(tensor_tkd.core)\n",
    "print('\\n')\n",
    "tensor_tkd_full=tensor_tkd.reconstruct()\n",
    "print(tensor_tkd_full)"
   ]
  },
  {
   "cell_type": "code",
   "execution_count": 91,
   "metadata": {},
   "outputs": [
    {
     "name": "stdout",
     "output_type": "stream",
     "text": [
      "Tucker representation of a tensor with multi-linear rank=(3, 2, 7).\n",
      "Factor matrices represent properties: ['mode-0', 'mode-1', 'mode-2']\n",
      "With corresponding latent components described by (20, 5, 5) features respectively.\n",
      "\n",
      "Core:\n",
      "This tensor is of order 3 and consists of 42 elements.\n",
      "Sizes and names of its modes are (3, 2, 7) and ['mode-0', 'mode-1', 'mode-2'] respectively.\n",
      "\n",
      "\n",
      "This tensor is of order 3 and consists of 500 elements.\n",
      "Sizes and names of its modes are (20, 5, 5) and ['mode-0', 'mode-1', 'mode-2'] respectively.\n"
     ]
    }
   ],
   "source": [
    "# Third representation\n",
    "I, J, K = 20, 5, 5   # define shape of the tensor in full form\n",
    "Q, R, P = 3, 2, 7  # define multi-linear rank of the tensor in Tucker form\n",
    "\n",
    "A = np.arange(I * Q).reshape(I, Q)\n",
    "B = np.arange(J * R).reshape(J, R)\n",
    "C = np.arange(K * P).reshape(K, P)\n",
    "\n",
    "# Create core values\n",
    "values = np.arange(Q * R * P).reshape(Q, R, P)\n",
    "\n",
    "# Create Tucker representation\n",
    "tensor_tkd = TensorTKD(fmat=[A, B, C], core_values=values)\n",
    "\n",
    "# Result preview\n",
    "print(tensor_tkd)\n",
    "print('\\nCore:')\n",
    "print(tensor_tkd.core)\n",
    "print('\\n')\n",
    "tensor_tkd_full=tensor_tkd.reconstruct()\n",
    "print(tensor_tkd_full)"
   ]
  },
  {
   "cell_type": "markdown",
   "metadata": {},
   "source": [
    "### Solution: Part 4"
   ]
  },
  {
   "cell_type": "code",
   "execution_count": 94,
   "metadata": {},
   "outputs": [
    {
     "name": "stdout",
     "output_type": "stream",
     "text": [
      "The main difference between Tucker and Kruskal representations lies in their core structures: Tucker allows for a dense core that provides extensive representational flexibility by accommodating multilinearity across different ranks, whereas Kruskal is constrained to a core with only diagonal elements, limiting its flexibility but simplifying its structure.\n"
     ]
    }
   ],
   "source": [
    "answer_2_4 = \"The main difference between Tucker and Kruskal representations lies in their core structures: Tucker allows for a dense core that provides extensive representational flexibility by accommodating multilinearity across different ranks, whereas Kruskal is constrained to a core with only diagonal elements, limiting its flexibility but simplifying its structure.\"  # use this variable for your answer\n",
    "\n",
    "print(answer_2_4)"
   ]
  }
 ],
 "metadata": {
  "kernelspec": {
   "display_name": "base",
   "language": "python",
   "name": "python3"
  },
  "language_info": {
   "codemirror_mode": {
    "name": "ipython",
    "version": 3
   },
   "file_extension": ".py",
   "mimetype": "text/x-python",
   "name": "python",
   "nbconvert_exporter": "python",
   "pygments_lexer": "ipython3",
   "version": "3.7.10"
  },
  "toc-autonumbering": false,
  "toc-showcode": false
 },
 "nbformat": 4,
 "nbformat_minor": 2
}
