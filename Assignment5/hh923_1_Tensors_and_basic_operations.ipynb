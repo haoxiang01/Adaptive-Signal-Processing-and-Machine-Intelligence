{
 "cells": [
  {
   "cell_type": "code",
   "execution_count": 445,
   "metadata": {},
   "outputs": [
    {
     "name": "stdout",
     "output_type": "stream",
     "text": [
      "The autoreload extension is already loaded. To reload it, use:\n",
      "  %reload_ext autoreload\n"
     ]
    }
   ],
   "source": [
    "%load_ext autoreload\n",
    "%autoreload 2\n",
    "%matplotlib inline"
   ]
  },
  {
   "cell_type": "code",
   "execution_count": 446,
   "metadata": {},
   "outputs": [],
   "source": [
    "import numpy as np\n",
    "import matplotlib.pyplot as plt\n",
    "from hottbox.core import Tensor"
   ]
  },
  {
   "cell_type": "markdown",
   "metadata": {
    "toc-hr-collapsed": false
   },
   "source": [
    "[Return to Table of Contents](./0_Table_of_contents.ipynb)"
   ]
  },
  {
   "cell_type": "markdown",
   "metadata": {
    "toc-hr-collapsed": false
   },
   "source": [
    "# Tensors and basic operations"
   ]
  },
  {
   "cell_type": "markdown",
   "metadata": {
    "toc-hr-collapsed": true
   },
   "source": [
    "<img src=\"./imgs/tensors_dogs.jpg\" alt=\"Drawing\" style=\"width: 500px;\"/>\n",
    "\n",
    "A tensor is a multi-dimenaional array of data where each dimension is conventionally referred to as the **mode**. Tensor order is defined by the number of its modes which is equivivalent to the number of indices required to identify a particular entry of a multi-dimensional array. For ease of visualisation and compact notation, we consider a third order tensor $\\mathbf{\\underline{X}} \\in \\mathbb{R}^{I \\times J \\times K}$. Thus, an element of such a tensor, $\\mathbf{\\underline{X}} \\in \\mathbb{R}^{I \\times J \\times K}$, can be written in a general form as:\n",
    "\n",
    "$$ x_{ijk} = \\mathbf{\\underline{X}}[i, j, k]$$\n",
    "\n",
    "> **Note:** In order to be consistent with Python indexing, count of modes and elements within starts from zeros.\n",
    "\n",
    "Creation of a tensor starts with a formation of a multidimensional array of data."
   ]
  },
  {
   "cell_type": "code",
   "execution_count": 447,
   "metadata": {},
   "outputs": [
    {
     "name": "stdout",
     "output_type": "stream",
     "text": [
      "This tensor is of order 3 and consists of 24 elements.\n",
      "Sizes and names of its modes are (2, 3, 4) and ['mode-0', 'mode-1', 'mode-2'] respectively.\n"
     ]
    },
    {
     "data": {
      "text/plain": [
       "array([[[ 0,  1,  2,  3],\n",
       "        [ 4,  5,  6,  7],\n",
       "        [ 8,  9, 10, 11]],\n",
       "\n",
       "       [[12, 13, 14, 15],\n",
       "        [16, 17, 18, 19],\n",
       "        [20, 21, 22, 23]]])"
      ]
     },
     "execution_count": 447,
     "metadata": {},
     "output_type": "execute_result"
    }
   ],
   "source": [
    "# Create 3-d array of data\n",
    "array_3d = np.arange(24).reshape((2, 3, 4))\n",
    "\n",
    "# Create tensor\n",
    "tensor = Tensor(array_3d)\n",
    "\n",
    "# Result preview\n",
    "print(tensor)\n",
    "tensor.data"
   ]
  },
  {
   "cell_type": "markdown",
   "metadata": {
    "toc-hr-collapsed": true
   },
   "source": [
    "## **Assigment 1**\n",
    "\n",
    "1. Create a tensor of order 5 (of any shape) and with all its values equal to 5. Then, calculate its Frobenious norm. \n",
    "2. Construct several tensors of orders varying from 3 to 20, with the size of each dimension equal to 2. Plot the relation between an order of a tensor and the number of its elements.\n",
    "3. Construct several tensors of order 3 with the size of each dimension varying from 3 to 15. Plot the relation between the size of dimensions of a tensor and the number of its elements.\n",
    "4. Analyse and compare the so obtained graphs."
   ]
  },
  {
   "cell_type": "markdown",
   "metadata": {},
   "source": [
    "### Solution: Part 1"
   ]
  },
  {
   "cell_type": "code",
   "execution_count": 448,
   "metadata": {},
   "outputs": [
    {
     "name": "stdout",
     "output_type": "stream",
     "text": [
      "This tensor is of order 5 and consists of 720 elements.\n",
      "Sizes and names of its modes are (2, 3, 4, 5, 6) and ['mode-0', 'mode-1', 'mode-2', 'mode-3', 'mode-4'] respectively.\n"
     ]
    },
    {
     "data": {
      "text/plain": [
       "array([[[[[5, 5, 5, 5, 5, 5],\n",
       "          [5, 5, 5, 5, 5, 5],\n",
       "          [5, 5, 5, 5, 5, 5],\n",
       "          [5, 5, 5, 5, 5, 5],\n",
       "          [5, 5, 5, 5, 5, 5]],\n",
       "\n",
       "         [[5, 5, 5, 5, 5, 5],\n",
       "          [5, 5, 5, 5, 5, 5],\n",
       "          [5, 5, 5, 5, 5, 5],\n",
       "          [5, 5, 5, 5, 5, 5],\n",
       "          [5, 5, 5, 5, 5, 5]],\n",
       "\n",
       "         [[5, 5, 5, 5, 5, 5],\n",
       "          [5, 5, 5, 5, 5, 5],\n",
       "          [5, 5, 5, 5, 5, 5],\n",
       "          [5, 5, 5, 5, 5, 5],\n",
       "          [5, 5, 5, 5, 5, 5]],\n",
       "\n",
       "         [[5, 5, 5, 5, 5, 5],\n",
       "          [5, 5, 5, 5, 5, 5],\n",
       "          [5, 5, 5, 5, 5, 5],\n",
       "          [5, 5, 5, 5, 5, 5],\n",
       "          [5, 5, 5, 5, 5, 5]]],\n",
       "\n",
       "\n",
       "        [[[5, 5, 5, 5, 5, 5],\n",
       "          [5, 5, 5, 5, 5, 5],\n",
       "          [5, 5, 5, 5, 5, 5],\n",
       "          [5, 5, 5, 5, 5, 5],\n",
       "          [5, 5, 5, 5, 5, 5]],\n",
       "\n",
       "         [[5, 5, 5, 5, 5, 5],\n",
       "          [5, 5, 5, 5, 5, 5],\n",
       "          [5, 5, 5, 5, 5, 5],\n",
       "          [5, 5, 5, 5, 5, 5],\n",
       "          [5, 5, 5, 5, 5, 5]],\n",
       "\n",
       "         [[5, 5, 5, 5, 5, 5],\n",
       "          [5, 5, 5, 5, 5, 5],\n",
       "          [5, 5, 5, 5, 5, 5],\n",
       "          [5, 5, 5, 5, 5, 5],\n",
       "          [5, 5, 5, 5, 5, 5]],\n",
       "\n",
       "         [[5, 5, 5, 5, 5, 5],\n",
       "          [5, 5, 5, 5, 5, 5],\n",
       "          [5, 5, 5, 5, 5, 5],\n",
       "          [5, 5, 5, 5, 5, 5],\n",
       "          [5, 5, 5, 5, 5, 5]]],\n",
       "\n",
       "\n",
       "        [[[5, 5, 5, 5, 5, 5],\n",
       "          [5, 5, 5, 5, 5, 5],\n",
       "          [5, 5, 5, 5, 5, 5],\n",
       "          [5, 5, 5, 5, 5, 5],\n",
       "          [5, 5, 5, 5, 5, 5]],\n",
       "\n",
       "         [[5, 5, 5, 5, 5, 5],\n",
       "          [5, 5, 5, 5, 5, 5],\n",
       "          [5, 5, 5, 5, 5, 5],\n",
       "          [5, 5, 5, 5, 5, 5],\n",
       "          [5, 5, 5, 5, 5, 5]],\n",
       "\n",
       "         [[5, 5, 5, 5, 5, 5],\n",
       "          [5, 5, 5, 5, 5, 5],\n",
       "          [5, 5, 5, 5, 5, 5],\n",
       "          [5, 5, 5, 5, 5, 5],\n",
       "          [5, 5, 5, 5, 5, 5]],\n",
       "\n",
       "         [[5, 5, 5, 5, 5, 5],\n",
       "          [5, 5, 5, 5, 5, 5],\n",
       "          [5, 5, 5, 5, 5, 5],\n",
       "          [5, 5, 5, 5, 5, 5],\n",
       "          [5, 5, 5, 5, 5, 5]]]],\n",
       "\n",
       "\n",
       "\n",
       "       [[[[5, 5, 5, 5, 5, 5],\n",
       "          [5, 5, 5, 5, 5, 5],\n",
       "          [5, 5, 5, 5, 5, 5],\n",
       "          [5, 5, 5, 5, 5, 5],\n",
       "          [5, 5, 5, 5, 5, 5]],\n",
       "\n",
       "         [[5, 5, 5, 5, 5, 5],\n",
       "          [5, 5, 5, 5, 5, 5],\n",
       "          [5, 5, 5, 5, 5, 5],\n",
       "          [5, 5, 5, 5, 5, 5],\n",
       "          [5, 5, 5, 5, 5, 5]],\n",
       "\n",
       "         [[5, 5, 5, 5, 5, 5],\n",
       "          [5, 5, 5, 5, 5, 5],\n",
       "          [5, 5, 5, 5, 5, 5],\n",
       "          [5, 5, 5, 5, 5, 5],\n",
       "          [5, 5, 5, 5, 5, 5]],\n",
       "\n",
       "         [[5, 5, 5, 5, 5, 5],\n",
       "          [5, 5, 5, 5, 5, 5],\n",
       "          [5, 5, 5, 5, 5, 5],\n",
       "          [5, 5, 5, 5, 5, 5],\n",
       "          [5, 5, 5, 5, 5, 5]]],\n",
       "\n",
       "\n",
       "        [[[5, 5, 5, 5, 5, 5],\n",
       "          [5, 5, 5, 5, 5, 5],\n",
       "          [5, 5, 5, 5, 5, 5],\n",
       "          [5, 5, 5, 5, 5, 5],\n",
       "          [5, 5, 5, 5, 5, 5]],\n",
       "\n",
       "         [[5, 5, 5, 5, 5, 5],\n",
       "          [5, 5, 5, 5, 5, 5],\n",
       "          [5, 5, 5, 5, 5, 5],\n",
       "          [5, 5, 5, 5, 5, 5],\n",
       "          [5, 5, 5, 5, 5, 5]],\n",
       "\n",
       "         [[5, 5, 5, 5, 5, 5],\n",
       "          [5, 5, 5, 5, 5, 5],\n",
       "          [5, 5, 5, 5, 5, 5],\n",
       "          [5, 5, 5, 5, 5, 5],\n",
       "          [5, 5, 5, 5, 5, 5]],\n",
       "\n",
       "         [[5, 5, 5, 5, 5, 5],\n",
       "          [5, 5, 5, 5, 5, 5],\n",
       "          [5, 5, 5, 5, 5, 5],\n",
       "          [5, 5, 5, 5, 5, 5],\n",
       "          [5, 5, 5, 5, 5, 5]]],\n",
       "\n",
       "\n",
       "        [[[5, 5, 5, 5, 5, 5],\n",
       "          [5, 5, 5, 5, 5, 5],\n",
       "          [5, 5, 5, 5, 5, 5],\n",
       "          [5, 5, 5, 5, 5, 5],\n",
       "          [5, 5, 5, 5, 5, 5]],\n",
       "\n",
       "         [[5, 5, 5, 5, 5, 5],\n",
       "          [5, 5, 5, 5, 5, 5],\n",
       "          [5, 5, 5, 5, 5, 5],\n",
       "          [5, 5, 5, 5, 5, 5],\n",
       "          [5, 5, 5, 5, 5, 5]],\n",
       "\n",
       "         [[5, 5, 5, 5, 5, 5],\n",
       "          [5, 5, 5, 5, 5, 5],\n",
       "          [5, 5, 5, 5, 5, 5],\n",
       "          [5, 5, 5, 5, 5, 5],\n",
       "          [5, 5, 5, 5, 5, 5]],\n",
       "\n",
       "         [[5, 5, 5, 5, 5, 5],\n",
       "          [5, 5, 5, 5, 5, 5],\n",
       "          [5, 5, 5, 5, 5, 5],\n",
       "          [5, 5, 5, 5, 5, 5],\n",
       "          [5, 5, 5, 5, 5, 5]]]]])"
      ]
     },
     "execution_count": 448,
     "metadata": {},
     "output_type": "execute_result"
    }
   ],
   "source": [
    "# Create a tensor\n",
    "array = np.full((2, 3, 4, 5, 6), 5)\n",
    "tensor = Tensor(array)\n",
    "\n",
    "# Result preview\n",
    "print(tensor)\n",
    "tensor.data"
   ]
  },
  {
   "cell_type": "code",
   "execution_count": 449,
   "metadata": {},
   "outputs": [
    {
     "name": "stdout",
     "output_type": "stream",
     "text": [
      "The Frobenius norm of the tensor: 134.16407864998737\n"
     ]
    }
   ],
   "source": [
    "# Calculate Frobenious norm\n",
    "frobenius_norm = tensor.frob_norm\n",
    "print(\"The Frobenius norm of the tensor:\", frobenius_norm)"
   ]
  },
  {
   "cell_type": "markdown",
   "metadata": {},
   "source": [
    "### Solution: Part 2"
   ]
  },
  {
   "cell_type": "code",
   "execution_count": 450,
   "metadata": {},
   "outputs": [
    {
     "name": "stdout",
     "output_type": "stream",
     "text": [
      "This tensor is of order 3 and consists of 8 elements.\n",
      "Sizes and names of its modes are (2, 2, 2) and ['mode-0', 'mode-1', 'mode-2'] respectively.\n",
      "This tensor is of order 4 and consists of 16 elements.\n",
      "Sizes and names of its modes are (2, 2, 2, 2) and ['mode-0', 'mode-1', 'mode-2', 'mode-3'] respectively.\n",
      "This tensor is of order 5 and consists of 32 elements.\n",
      "Sizes and names of its modes are (2, 2, 2, 2, 2) and ['mode-0', 'mode-1', 'mode-2', 'mode-3', 'mode-4'] respectively.\n",
      "This tensor is of order 6 and consists of 64 elements.\n",
      "Sizes and names of its modes are (2, 2, 2, 2, 2, 2) and ['mode-0', 'mode-1', 'mode-2', 'mode-3', 'mode-4', 'mode-5'] respectively.\n",
      "This tensor is of order 7 and consists of 128 elements.\n",
      "Sizes and names of its modes are (2, 2, 2, 2, 2, 2, 2) and ['mode-0', 'mode-1', 'mode-2', 'mode-3', 'mode-4', 'mode-5', 'mode-6'] respectively.\n",
      "This tensor is of order 8 and consists of 256 elements.\n",
      "Sizes and names of its modes are (2, 2, 2, 2, 2, 2, 2, 2) and ['mode-0', 'mode-1', 'mode-2', 'mode-3', 'mode-4', 'mode-5', 'mode-6', 'mode-7'] respectively.\n",
      "This tensor is of order 9 and consists of 512 elements.\n",
      "Sizes and names of its modes are (2, 2, 2, 2, 2, 2, 2, 2, 2) and ['mode-0', 'mode-1', 'mode-2', 'mode-3', 'mode-4', 'mode-5', 'mode-6', 'mode-7', 'mode-8'] respectively.\n",
      "This tensor is of order 10 and consists of 1024 elements.\n",
      "Sizes and names of its modes are (2, 2, 2, 2, 2, 2, 2, 2, 2, 2) and ['mode-0', 'mode-1', 'mode-2', 'mode-3', 'mode-4', 'mode-5', 'mode-6', 'mode-7', 'mode-8', 'mode-9'] respectively.\n",
      "This tensor is of order 11 and consists of 2048 elements.\n",
      "Sizes and names of its modes are (2, 2, 2, 2, 2, 2, 2, 2, 2, 2, 2) and ['mode-0', 'mode-1', 'mode-2', 'mode-3', 'mode-4', 'mode-5', 'mode-6', 'mode-7', 'mode-8', 'mode-9', 'mode-10'] respectively.\n",
      "This tensor is of order 12 and consists of 4096 elements.\n",
      "Sizes and names of its modes are (2, 2, 2, 2, 2, 2, 2, 2, 2, 2, 2, 2) and ['mode-0', 'mode-1', 'mode-2', 'mode-3', 'mode-4', 'mode-5', 'mode-6', 'mode-7', 'mode-8', 'mode-9', 'mode-10', 'mode-11'] respectively.\n",
      "This tensor is of order 13 and consists of 8192 elements.\n",
      "Sizes and names of its modes are (2, 2, 2, 2, 2, 2, 2, 2, 2, 2, 2, 2, 2) and ['mode-0', 'mode-1', 'mode-2', 'mode-3', 'mode-4', 'mode-5', 'mode-6', 'mode-7', 'mode-8', 'mode-9', 'mode-10', 'mode-11', 'mode-12'] respectively.\n",
      "This tensor is of order 14 and consists of 16384 elements.\n",
      "Sizes and names of its modes are (2, 2, 2, 2, 2, 2, 2, 2, 2, 2, 2, 2, 2, 2) and ['mode-0', 'mode-1', 'mode-2', 'mode-3', 'mode-4', 'mode-5', 'mode-6', 'mode-7', 'mode-8', 'mode-9', 'mode-10', 'mode-11', 'mode-12', 'mode-13'] respectively.\n",
      "This tensor is of order 15 and consists of 32768 elements.\n",
      "Sizes and names of its modes are (2, 2, 2, 2, 2, 2, 2, 2, 2, 2, 2, 2, 2, 2, 2) and ['mode-0', 'mode-1', 'mode-2', 'mode-3', 'mode-4', 'mode-5', 'mode-6', 'mode-7', 'mode-8', 'mode-9', 'mode-10', 'mode-11', 'mode-12', 'mode-13', 'mode-14'] respectively.\n",
      "This tensor is of order 16 and consists of 65536 elements.\n",
      "Sizes and names of its modes are (2, 2, 2, 2, 2, 2, 2, 2, 2, 2, 2, 2, 2, 2, 2, 2) and ['mode-0', 'mode-1', 'mode-2', 'mode-3', 'mode-4', 'mode-5', 'mode-6', 'mode-7', 'mode-8', 'mode-9', 'mode-10', 'mode-11', 'mode-12', 'mode-13', 'mode-14', 'mode-15'] respectively.\n",
      "This tensor is of order 17 and consists of 131072 elements.\n",
      "Sizes and names of its modes are (2, 2, 2, 2, 2, 2, 2, 2, 2, 2, 2, 2, 2, 2, 2, 2, 2) and ['mode-0', 'mode-1', 'mode-2', 'mode-3', 'mode-4', 'mode-5', 'mode-6', 'mode-7', 'mode-8', 'mode-9', 'mode-10', 'mode-11', 'mode-12', 'mode-13', 'mode-14', 'mode-15', 'mode-16'] respectively.\n",
      "This tensor is of order 18 and consists of 262144 elements.\n",
      "Sizes and names of its modes are (2, 2, 2, 2, 2, 2, 2, 2, 2, 2, 2, 2, 2, 2, 2, 2, 2, 2) and ['mode-0', 'mode-1', 'mode-2', 'mode-3', 'mode-4', 'mode-5', 'mode-6', 'mode-7', 'mode-8', 'mode-9', 'mode-10', 'mode-11', 'mode-12', 'mode-13', 'mode-14', 'mode-15', 'mode-16', 'mode-17'] respectively.\n",
      "This tensor is of order 19 and consists of 524288 elements.\n",
      "Sizes and names of its modes are (2, 2, 2, 2, 2, 2, 2, 2, 2, 2, 2, 2, 2, 2, 2, 2, 2, 2, 2) and ['mode-0', 'mode-1', 'mode-2', 'mode-3', 'mode-4', 'mode-5', 'mode-6', 'mode-7', 'mode-8', 'mode-9', 'mode-10', 'mode-11', 'mode-12', 'mode-13', 'mode-14', 'mode-15', 'mode-16', 'mode-17', 'mode-18'] respectively.\n",
      "This tensor is of order 20 and consists of 1048576 elements.\n",
      "Sizes and names of its modes are (2, 2, 2, 2, 2, 2, 2, 2, 2, 2, 2, 2, 2, 2, 2, 2, 2, 2, 2, 2) and ['mode-0', 'mode-1', 'mode-2', 'mode-3', 'mode-4', 'mode-5', 'mode-6', 'mode-7', 'mode-8', 'mode-9', 'mode-10', 'mode-11', 'mode-12', 'mode-13', 'mode-14', 'mode-15', 'mode-16', 'mode-17', 'mode-18', 'mode-19'] respectively.\n"
     ]
    }
   ],
   "source": [
    "# Create tensors and collect information\n",
    "tensors = []\n",
    "orders = range(3,21)\n",
    "total_elements = []\n",
    "\n",
    "# Generate tensors of orders 3 to 20, each dimension of size 2\n",
    "for order in orders:  \n",
    "    array = np.ones([2]*order, dtype=int)\n",
    "    tensor = Tensor(array)\n",
    "    tensors.append(tensor)\n",
    "    total_elements.append(tensor.size)\n",
    "    \n",
    "# Display the tensor information\n",
    "for tensor in tensors:\n",
    "    print(tensor)"
   ]
  },
  {
   "cell_type": "code",
   "execution_count": 451,
   "metadata": {},
   "outputs": [
    {
     "data": {
      "image/png": "[encoded data removed]",
      "text/plain": [
       "<Figure size 432x288 with 1 Axes>"
      ]
     },
     "metadata": {
      "needs_background": "light"
     },
     "output_type": "display_data"
    }
   ],
   "source": [
    "# Plot results\n",
    "plt.plot(orders, total_elements)\n",
    "plt.xlabel('Order of a tensor')\n",
    "plt.xlim([3,20])\n",
    "plt.ylabel('Number of elements')\n",
    "plt.show()"
   ]
  },
  {
   "cell_type": "markdown",
   "metadata": {},
   "source": [
    "### Solution: Part 3"
   ]
  },
  {
   "cell_type": "code",
   "execution_count": 452,
   "metadata": {},
   "outputs": [
    {
     "name": "stdout",
     "output_type": "stream",
     "text": [
      "This tensor is of order 3 and consists of 27 elements.\n",
      "Sizes and names of its modes are (3, 3, 3) and ['mode-0', 'mode-1', 'mode-2'] respectively.\n",
      "This tensor is of order 3 and consists of 64 elements.\n",
      "Sizes and names of its modes are (4, 4, 4) and ['mode-0', 'mode-1', 'mode-2'] respectively.\n",
      "This tensor is of order 3 and consists of 125 elements.\n",
      "Sizes and names of its modes are (5, 5, 5) and ['mode-0', 'mode-1', 'mode-2'] respectively.\n",
      "This tensor is of order 3 and consists of 216 elements.\n",
      "Sizes and names of its modes are (6, 6, 6) and ['mode-0', 'mode-1', 'mode-2'] respectively.\n",
      "This tensor is of order 3 and consists of 343 elements.\n",
      "Sizes and names of its modes are (7, 7, 7) and ['mode-0', 'mode-1', 'mode-2'] respectively.\n",
      "This tensor is of order 3 and consists of 512 elements.\n",
      "Sizes and names of its modes are (8, 8, 8) and ['mode-0', 'mode-1', 'mode-2'] respectively.\n",
      "This tensor is of order 3 and consists of 729 elements.\n",
      "Sizes and names of its modes are (9, 9, 9) and ['mode-0', 'mode-1', 'mode-2'] respectively.\n",
      "This tensor is of order 3 and consists of 1000 elements.\n",
      "Sizes and names of its modes are (10, 10, 10) and ['mode-0', 'mode-1', 'mode-2'] respectively.\n",
      "This tensor is of order 3 and consists of 1331 elements.\n",
      "Sizes and names of its modes are (11, 11, 11) and ['mode-0', 'mode-1', 'mode-2'] respectively.\n",
      "This tensor is of order 3 and consists of 1728 elements.\n",
      "Sizes and names of its modes are (12, 12, 12) and ['mode-0', 'mode-1', 'mode-2'] respectively.\n",
      "This tensor is of order 3 and consists of 2197 elements.\n",
      "Sizes and names of its modes are (13, 13, 13) and ['mode-0', 'mode-1', 'mode-2'] respectively.\n",
      "This tensor is of order 3 and consists of 2744 elements.\n",
      "Sizes and names of its modes are (14, 14, 14) and ['mode-0', 'mode-1', 'mode-2'] respectively.\n",
      "This tensor is of order 3 and consists of 3375 elements.\n",
      "Sizes and names of its modes are (15, 15, 15) and ['mode-0', 'mode-1', 'mode-2'] respectively.\n"
     ]
    }
   ],
   "source": [
    "# Create tensors and collect information\n",
    "tensors = []\n",
    "total_elements = []\n",
    "sizes = range(3,16)\n",
    "for size in sizes:\n",
    "    array = np.ones((size, size, size), dtype=int)\n",
    "    tensor = Tensor(array)\n",
    "    tensors.append(tensor)\n",
    "    total_elements.append(tensor.size)\n",
    "\n",
    "# Display the tensor information\n",
    "for tensor in tensors:\n",
    "   print(tensor)"
   ]
  },
  {
   "cell_type": "code",
   "execution_count": 453,
   "metadata": {},
   "outputs": [
    {
     "data": {
      "text/plain": [
       "Text(0, 0.5, 'Number of Elements')"
      ]
     },
     "execution_count": 453,
     "metadata": {},
     "output_type": "execute_result"
    },
    {
     "data": {
      "image/png": "[encoded data removed]",
      "text/plain": [
       "<Figure size 432x288 with 1 Axes>"
      ]
     },
     "metadata": {
      "needs_background": "light"
     },
     "output_type": "display_data"
    }
   ],
   "source": [
    "# Plot results\n",
    "plt.plot(sizes, total_elements)\n",
    "plt.xlim(3,15)\n",
    "plt.xlabel('Size of a tensor')\n",
    "plt.ylabel('Number of Elements')"
   ]
  },
  {
   "cell_type": "markdown",
   "metadata": {},
   "source": [
    "### Solution: Part 4"
   ]
  },
  {
   "cell_type": "markdown",
   "metadata": {},
   "source": [
    "**Include comparison and analysis here**\n",
    "\n"
   ]
  },
  {
   "cell_type": "markdown",
   "metadata": {
    "toc-hr-collapsed": false
   },
   "source": [
    "# Most common tensor substructures\n",
    "<img src=\"./imgs/tensor_substructures.png\" alt=\"Drawing\" style=\"width: 500px;\"/>\n",
    "\n",
    "1. A **fiber** is a vector obtained by fixing all but one of the indices, e.g.  $\\mathbf{\\underline{X}}[i,:,k]$ is the mode-2 fiber $\\mathbf{\\underline{X}}$ (usually refered to as row fiber). \n",
    "\n",
    "1. Fixing all but two of the indices yields a matrix called a **slice** of a tensor, e.g. $\\mathbf{\\underline{X}}[:,:,k]$ is the mode-[1,2] slice (usually refered to as the frontal slice).\n",
    "\n",
    "**Note:** The same principles and definitions can be applied to a tensor of an arbitrarily large order. In addition, you can obtain a **subtensor** by fixing at least three indices and letting the remaining ones vary."
   ]
  },
  {
   "cell_type": "code",
   "execution_count": 454,
   "metadata": {},
   "outputs": [
    {
     "data": {
      "text/plain": [
       "array([1, 1, 1, 1, 1, 1, 1, 1, 1, 1, 1, 1, 1, 1, 1])"
      ]
     },
     "execution_count": 454,
     "metadata": {},
     "output_type": "execute_result"
    }
   ],
   "source": [
    "# Mode-2 fiber\n",
    "tensor.data[0,1,:]"
   ]
  },
  {
   "cell_type": "code",
   "execution_count": 455,
   "metadata": {},
   "outputs": [
    {
     "data": {
      "text/plain": [
       "array([[1, 1, 1, 1, 1, 1, 1, 1, 1, 1, 1, 1, 1, 1, 1],\n",
       "       [1, 1, 1, 1, 1, 1, 1, 1, 1, 1, 1, 1, 1, 1, 1],\n",
       "       [1, 1, 1, 1, 1, 1, 1, 1, 1, 1, 1, 1, 1, 1, 1],\n",
       "       [1, 1, 1, 1, 1, 1, 1, 1, 1, 1, 1, 1, 1, 1, 1],\n",
       "       [1, 1, 1, 1, 1, 1, 1, 1, 1, 1, 1, 1, 1, 1, 1],\n",
       "       [1, 1, 1, 1, 1, 1, 1, 1, 1, 1, 1, 1, 1, 1, 1],\n",
       "       [1, 1, 1, 1, 1, 1, 1, 1, 1, 1, 1, 1, 1, 1, 1],\n",
       "       [1, 1, 1, 1, 1, 1, 1, 1, 1, 1, 1, 1, 1, 1, 1],\n",
       "       [1, 1, 1, 1, 1, 1, 1, 1, 1, 1, 1, 1, 1, 1, 1],\n",
       "       [1, 1, 1, 1, 1, 1, 1, 1, 1, 1, 1, 1, 1, 1, 1],\n",
       "       [1, 1, 1, 1, 1, 1, 1, 1, 1, 1, 1, 1, 1, 1, 1],\n",
       "       [1, 1, 1, 1, 1, 1, 1, 1, 1, 1, 1, 1, 1, 1, 1],\n",
       "       [1, 1, 1, 1, 1, 1, 1, 1, 1, 1, 1, 1, 1, 1, 1],\n",
       "       [1, 1, 1, 1, 1, 1, 1, 1, 1, 1, 1, 1, 1, 1, 1],\n",
       "       [1, 1, 1, 1, 1, 1, 1, 1, 1, 1, 1, 1, 1, 1, 1]])"
      ]
     },
     "execution_count": 455,
     "metadata": {},
     "output_type": "execute_result"
    }
   ],
   "source": [
    "# Frontal slice\n",
    "tensor.data[0,:,:]"
   ]
  },
  {
   "cell_type": "markdown",
   "metadata": {
    "toc-hr-collapsed": true
   },
   "source": [
    "## **Assigment 2**\n",
    "\n",
    "1. Create a tensor of order 4 which consists of 81 elements and display all its horizontal slices and any five row fibers.\n",
    "2. Create a tensor of order 3 and shape `(4,2,5)`, where the values of each consequent frontal slice are doubled."
   ]
  },
  {
   "cell_type": "markdown",
   "metadata": {},
   "source": [
    "### Solution: Part 1"
   ]
  },
  {
   "cell_type": "code",
   "execution_count": 456,
   "metadata": {},
   "outputs": [
    {
     "name": "stdout",
     "output_type": "stream",
     "text": [
      "This tensor is of order 4 and consists of 81 elements.\n",
      "Sizes and names of its modes are (3, 3, 3, 3) and ['mode-0', 'mode-1', 'mode-2', 'mode-3'] respectively.\n"
     ]
    },
    {
     "data": {
      "text/plain": [
       "array([[[[ 0,  1,  2],\n",
       "         [ 3,  4,  5],\n",
       "         [ 6,  7,  8]],\n",
       "\n",
       "        [[ 9, 10, 11],\n",
       "         [12, 13, 14],\n",
       "         [15, 16, 17]],\n",
       "\n",
       "        [[18, 19, 20],\n",
       "         [21, 22, 23],\n",
       "         [24, 25, 26]]],\n",
       "\n",
       "\n",
       "       [[[27, 28, 29],\n",
       "         [30, 31, 32],\n",
       "         [33, 34, 35]],\n",
       "\n",
       "        [[36, 37, 38],\n",
       "         [39, 40, 41],\n",
       "         [42, 43, 44]],\n",
       "\n",
       "        [[45, 46, 47],\n",
       "         [48, 49, 50],\n",
       "         [51, 52, 53]]],\n",
       "\n",
       "\n",
       "       [[[54, 55, 56],\n",
       "         [57, 58, 59],\n",
       "         [60, 61, 62]],\n",
       "\n",
       "        [[63, 64, 65],\n",
       "         [66, 67, 68],\n",
       "         [69, 70, 71]],\n",
       "\n",
       "        [[72, 73, 74],\n",
       "         [75, 76, 77],\n",
       "         [78, 79, 80]]]])"
      ]
     },
     "execution_count": 456,
     "metadata": {},
     "output_type": "execute_result"
    }
   ],
   "source": [
    "# Create a tensor of order 4\n",
    "array = np.arange(81).reshape(3,3,3,3)\n",
    "tensor = Tensor(array)\n",
    "print(tensor)\n",
    "tensor.data"
   ]
  },
  {
   "cell_type": "code",
   "execution_count": 457,
   "metadata": {},
   "outputs": [
    {
     "name": "stdout",
     "output_type": "stream",
     "text": [
      "****************************************\n",
      "Horizontial slice X(0,:,:,0):\n",
      "[[ 0  3  6]\n",
      " [ 9 12 15]\n",
      " [18 21 24]]:\n",
      "****************************************\n",
      "Horizontial slice X(0,:,:,1):\n",
      "[[ 1  4  7]\n",
      " [10 13 16]\n",
      " [19 22 25]]:\n",
      "****************************************\n",
      "Horizontial slice X(0,:,:,2):\n",
      "[[ 2  5  8]\n",
      " [11 14 17]\n",
      " [20 23 26]]:\n",
      "****************************************\n",
      "Horizontial slice X(1,:,:,0):\n",
      "[[27 30 33]\n",
      " [36 39 42]\n",
      " [45 48 51]]:\n",
      "****************************************\n",
      "Horizontial slice X(1,:,:,1):\n",
      "[[28 31 34]\n",
      " [37 40 43]\n",
      " [46 49 52]]:\n",
      "****************************************\n",
      "Horizontial slice X(1,:,:,2):\n",
      "[[29 32 35]\n",
      " [38 41 44]\n",
      " [47 50 53]]:\n",
      "****************************************\n",
      "Horizontial slice X(2,:,:,0):\n",
      "[[54 57 60]\n",
      " [63 66 69]\n",
      " [72 75 78]]:\n",
      "****************************************\n",
      "Horizontial slice X(2,:,:,1):\n",
      "[[55 58 61]\n",
      " [64 67 70]\n",
      " [73 76 79]]:\n",
      "****************************************\n",
      "Horizontial slice X(2,:,:,2):\n",
      "[[56 59 62]\n",
      " [65 68 71]\n",
      " [74 77 80]]:\n"
     ]
    }
   ],
   "source": [
    "# Display slices\n",
    "for i in range(0, 3):\n",
    "    for j in range (0, 3):\n",
    "    # Horizontial slice\n",
    "        tensor_slice = tensor.data[i,:,:,j]\n",
    "        print('****************************************')\n",
    "        print(f'Horizontial slice X({i},:,:,{j}):\\n{tensor_slice}:')"
   ]
  },
  {
   "cell_type": "code",
   "execution_count": 458,
   "metadata": {},
   "outputs": [
    {
     "name": "stdout",
     "output_type": "stream",
     "text": [
      "***********************\n",
      "Row fiber X(0,:,0,1):\n",
      "[ 1 10 19]\n",
      "***********************\n",
      "Row fiber X(0,:,1,1):\n",
      "[ 4 13 22]\n",
      "***********************\n",
      "Row fiber X(0,:,2,1):\n",
      "[ 7 16 25]\n",
      "***********************\n",
      "Row fiber X(1,:,0,1):\n",
      "[28 37 46]\n",
      "***********************\n",
      "Row fiber X(1,:,1,1):\n",
      "[31 40 49]\n"
     ]
    }
   ],
   "source": [
    "# Display fibers\n",
    "for (i,j) in [(0,0),(0,1),(0,2),(1,0),(1,1)]:\n",
    "    print('***********************')\n",
    "    print(f'Row fiber X({i},:,{j},1):\\n{tensor.data[i,:,j,1]}')"
   ]
  },
  {
   "cell_type": "markdown",
   "metadata": {},
   "source": [
    "### Solution: Part 2"
   ]
  },
  {
   "cell_type": "code",
   "execution_count": 459,
   "metadata": {},
   "outputs": [
    {
     "name": "stdout",
     "output_type": "stream",
     "text": [
      "This tensor is of order 3 and consists of 40 elements.\n",
      "Sizes and names of its modes are (4, 2, 5) and ['mode-0', 'mode-1', 'mode-2'] respectively.\n"
     ]
    },
    {
     "data": {
      "text/plain": [
       "array([[[ 1,  2,  4,  8, 16],\n",
       "        [ 1,  2,  4,  8, 16]],\n",
       "\n",
       "       [[ 1,  2,  4,  8, 16],\n",
       "        [ 1,  2,  4,  8, 16]],\n",
       "\n",
       "       [[ 1,  2,  4,  8, 16],\n",
       "        [ 1,  2,  4,  8, 16]],\n",
       "\n",
       "       [[ 1,  2,  4,  8, 16],\n",
       "        [ 1,  2,  4,  8, 16]]])"
      ]
     },
     "execution_count": 459,
     "metadata": {},
     "output_type": "execute_result"
    }
   ],
   "source": [
    "# Create a tensor of order 3\n",
    "array = np.full((4, 2, 5), 1)\n",
    "for i in range(4):\n",
    "    array[:,:,i+1] = 2 * array[:,:,i]\n",
    "tensor = Tensor(array)\n",
    "\n",
    "print(tensor)\n",
    "tensor.data"
   ]
  },
  {
   "cell_type": "markdown",
   "metadata": {
    "toc-hr-collapsed": false
   },
   "source": [
    "# Unfolding\n",
    "\n",
    "Conventionally, unfolding is considered to be a process of element mapping from a tensor to a matrix. In other words, it arranges the mode-$n$ fibers of a tensor to be the matrix columns. Thus, the mode-$n$ unfolding is denoted as:\n",
    "\n",
    "$$\\mathbf{\\underline{A}} \\xrightarrow{n} \\mathbf{A}_{(n)}$$\n",
    "\n",
    "Thus, this operations requires to specify a mode along which a tensor will be unfolded. For a third order tensor, a visual representation of such operation is as following\n",
    "\n",
    "<img src=\"./imgs/unfolding.png\" alt=\"Drawing\" style=\"width: 600px;\"/>\n",
    "\n",
    "In `hottbox` this functionality is available through the corresponding methods of the `Tensor` object, for instance:"
   ]
  },
  {
   "cell_type": "code",
   "execution_count": 460,
   "metadata": {},
   "outputs": [
    {
     "name": "stdout",
     "output_type": "stream",
     "text": [
      "This tensor is of order 2 and consists of 24 elements.\n",
      "Sizes and names of its modes are (2, 12) and ['mode-0', 'mode-1_mode-2'] respectively.\n"
     ]
    },
    {
     "data": {
      "text/plain": [
       "array([[ 0,  1,  2,  3,  4,  5,  6,  7,  8,  9, 10, 11],\n",
       "       [12, 13, 14, 15, 16, 17, 18, 19, 20, 21, 22, 23]])"
      ]
     },
     "execution_count": 460,
     "metadata": {},
     "output_type": "execute_result"
    }
   ],
   "source": [
    "# Create 3-d array of data\n",
    "array_3d = np.arange(24).reshape((2, 3, 4))\n",
    "\n",
    "# Create tensor\n",
    "tensor = Tensor(array_3d)\n",
    "\n",
    "# Unfolding of a tensor\n",
    "tensor.unfold(mode=0)\n",
    "\n",
    "# Result preview\n",
    "print(tensor)\n",
    "tensor.data"
   ]
  },
  {
   "cell_type": "markdown",
   "metadata": {
    "toc-hr-collapsed": true
   },
   "source": [
    "## **Assigment 3**\n",
    "\n",
    "1. Create a tensor, $\\mathbf{\\underline{A}}$, of order 4, in such a way that its version unfolded along the second mode would have sizes `(5,72)`, that is $\\mathbf{A}_{(n)} \\in  \\mathbb{R}^{5 \\times 72}$. Validate your results by displaying the unfolded tensor."
   ]
  },
  {
   "cell_type": "markdown",
   "metadata": {},
   "source": [
    "### Solution : Part 1"
   ]
  },
  {
   "cell_type": "code",
   "execution_count": 461,
   "metadata": {},
   "outputs": [
    {
     "name": "stdout",
     "output_type": "stream",
     "text": [
      "This tensor is of order 4 and consists of 360 elements.\n",
      "Sizes and names of its modes are (5, 4, 6, 3) and ['mode-0', 'mode-1', 'mode-2', 'mode-3'] respectively.\n"
     ]
    }
   ],
   "source": [
    "# Create a tensor\n",
    "array = np.full((5,4,6,3), 1)\n",
    "tensor = Tensor(array)\n",
    "\n",
    "print(tensor)\n",
    "#tensor.data"
   ]
  },
  {
   "cell_type": "code",
   "execution_count": 462,
   "metadata": {},
   "outputs": [
    {
     "name": "stdout",
     "output_type": "stream",
     "text": [
      "This tensor is of order 2 and consists of 360 elements.\n",
      "Sizes and names of its modes are (5, 72) and ['mode-0', 'mode-1_mode-2_mode-3'] respectively.\n"
     ]
    }
   ],
   "source": [
    "# Display unfolded version\n",
    "tensor.unfold(mode=0)\n",
    "print(tensor)"
   ]
  },
  {
   "cell_type": "markdown",
   "metadata": {
    "toc-hr-collapsed": false
   },
   "source": [
    "# Mode-n product \n",
    "<img src=\"./imgs/mode_n_product.png\" alt=\"Drawing\" style=\"width: 600px;\"/>\n",
    "\n",
    "The mode-$n$ product is a multiplication of a tensor  by a matrix along the $n^{th}$ mode of a tensor. This essentially means that each mode-$n$ fiber should be multiplied by this matrix. Mathematically, this can be expressed as:\n",
    "\n",
    "$$\\mathbf{\\underline{X}} \\times_n \\mathbf{A} = \\mathbf{\\underline{Y}} \\quad \\Leftrightarrow  \\quad \\mathbf{Y}_{(n)} = \\mathbf{A} \\mathbf{X}_{(n)}  $$"
   ]
  },
  {
   "cell_type": "code",
   "execution_count": 463,
   "metadata": {},
   "outputs": [
    {
     "name": "stdout",
     "output_type": "stream",
     "text": [
      "This tensor is of order 3 and consists of 40 elements.\n",
      "Sizes and names of its modes are (2, 5, 4) and ['mode-0', 'mode-1', 'mode-2'] respectively.\n"
     ]
    },
    {
     "data": {
      "text/plain": [
       "array([[ 20,  23,  26,  29,  56,  59,  62,  65],\n",
       "       [ 56,  68,  80,  92, 200, 212, 224, 236],\n",
       "       [ 92, 113, 134, 155, 344, 365, 386, 407],\n",
       "       [128, 158, 188, 218, 488, 518, 548, 578],\n",
       "       [164, 203, 242, 281, 632, 671, 710, 749]])"
      ]
     },
     "execution_count": 463,
     "metadata": {},
     "output_type": "execute_result"
    }
   ],
   "source": [
    "I, J, K = 2, 3, 4\n",
    "J_new = 5\n",
    "\n",
    "# Create tensor\n",
    "array_3d = np.arange(I * J * K).reshape(I, J ,K)\n",
    "X = Tensor(array_3d)\n",
    "\n",
    "# Create matrix\n",
    "A = np.arange(J_new * J).reshape(J_new, J)\n",
    "\n",
    "# Performs Mode-n product \n",
    "Y = X.mode_n_product(A, mode=1, inplace=False)\n",
    "\n",
    "# Preview of resulting tensor\n",
    "print(Y)\n",
    "\n",
    "# Preview of its unfolded version\n",
    "Y.unfold(mode=1, inplace=False).data"
   ]
  },
  {
   "cell_type": "markdown",
   "metadata": {
    "toc-hr-collapsed": true
   },
   "source": [
    "## **Assignment 4**\n",
    "\n",
    "1. Perform the mode-$n$ product of a 3-rd order tensor, $\\mathbf{\\underline{X}}$, with a matrix, $\\mathbf{A} \\in  \\mathbb{R}^{5 \\times 4}$, provided that the resulting tensor, $\\mathbf{\\underline{Y}}$, consists of `100` elements. Validate your results. \n",
    "\n",
    "> **Note:** You are encouraged to experiment with the optional parameter `inplace` and to investigate its effect on the result."
   ]
  },
  {
   "cell_type": "markdown",
   "metadata": {},
   "source": [
    "### Solution: Part 1"
   ]
  },
  {
   "cell_type": "code",
   "execution_count": 464,
   "metadata": {},
   "outputs": [
    {
     "name": "stdout",
     "output_type": "stream",
     "text": [
      "This tensor is of order 3 and consists of 80 elements.\n",
      "Sizes and names of its modes are (5, 4, 4) and ['mode-0', 'mode-1', 'mode-2'] respectively.\n"
     ]
    }
   ],
   "source": [
    "# Create original tensor \n",
    "I , J , K = 5 , 4 , 4\n",
    "array = np.full((I , J , K), 1)\n",
    "X = Tensor(array)\n",
    "print(X)"
   ]
  },
  {
   "cell_type": "code",
   "execution_count": 465,
   "metadata": {},
   "outputs": [],
   "source": [
    "# Create matrix\n",
    "J_new = 5\n",
    "A = np.arange(J_new * J).reshape(J_new, J)"
   ]
  },
  {
   "cell_type": "code",
   "execution_count": 466,
   "metadata": {},
   "outputs": [
    {
     "name": "stdout",
     "output_type": "stream",
     "text": [
      "This tensor is of order 3 and consists of 100 elements.\n",
      "Sizes and names of its modes are (5, 5, 4) and ['mode-0', 'mode-1', 'mode-2'] respectively.\n"
     ]
    },
    {
     "data": {
      "text/plain": [
       "array([[ 6,  6,  6,  6,  6,  6,  6,  6,  6,  6,  6,  6,  6,  6,  6,  6,\n",
       "         6,  6,  6,  6],\n",
       "       [22, 22, 22, 22, 22, 22, 22, 22, 22, 22, 22, 22, 22, 22, 22, 22,\n",
       "        22, 22, 22, 22],\n",
       "       [38, 38, 38, 38, 38, 38, 38, 38, 38, 38, 38, 38, 38, 38, 38, 38,\n",
       "        38, 38, 38, 38],\n",
       "       [54, 54, 54, 54, 54, 54, 54, 54, 54, 54, 54, 54, 54, 54, 54, 54,\n",
       "        54, 54, 54, 54],\n",
       "       [70, 70, 70, 70, 70, 70, 70, 70, 70, 70, 70, 70, 70, 70, 70, 70,\n",
       "        70, 70, 70, 70]])"
      ]
     },
     "execution_count": 466,
     "metadata": {},
     "output_type": "execute_result"
    }
   ],
   "source": [
    "# Perform mode-n product \n",
    "Y = X.mode_n_product(A, mode=1, inplace=False)\n",
    "\n",
    "# Preview of resulting tensor\n",
    "print(Y)\n",
    "\n",
    "# Preview of its unfolded version\n",
    "Y.unfold(mode=1, inplace=False).data"
   ]
  },
  {
   "cell_type": "code",
   "execution_count": 467,
   "metadata": {},
   "outputs": [
    {
     "name": "stdout",
     "output_type": "stream",
     "text": [
      "[ 6 22 38 54 70]\n",
      "[ 6 22 38 54 70]\n",
      "Equivalence between the left and right hand side: True\n"
     ]
    }
   ],
   "source": [
    "# Validate equivalence between the left and right hand side\n",
    "right = Y.data[0,:,0]# right hand result of Y values\n",
    "left  = np.matmul(X.data[0,:,0],A.T)# left hand result from matrix multiplication\n",
    "print(right) \n",
    "print(left)  \n",
    "print(f'Equivalence between the left and right hand side: {np.array_equal(right, left)}')"
   ]
  },
  {
   "cell_type": "markdown",
   "metadata": {},
   "source": [
    "# Properties of mode-n product\n",
    "\n",
    "1. For distinct modes in a series of multiplications, the order of the multiplication is irrelevent: \n",
    "\n",
    "    $$\\mathbf{\\underline{X}} \\times_n \\mathbf{A} \\times_m \\mathbf{B} = \\mathbf{\\underline{X}} \\times_m \\mathbf{B} \\times_n \\mathbf{A} \\quad (m \\neq n)$$\n",
    "\n",
    "1. However, this does not hold if the modes are the same :\n",
    "\n",
    "    $$\\mathbf{\\underline{X}} \\times_n \\mathbf{A} \\times_n \\mathbf{B} = \\mathbf{\\underline{X}} \\times_n (\\mathbf{B}\\mathbf{A})$$"
   ]
  },
  {
   "cell_type": "markdown",
   "metadata": {
    "toc-hr-collapsed": true
   },
   "source": [
    "## **Assignment 5**\n",
    "\n",
    "1. Validate both of the above properties empirically \n",
    "2. Prove the second property analytically\n",
    "\n",
    "> **Note:** Be aware of consequences of the optional parameter `inplace` (its default value is set to `True`)."
   ]
  },
  {
   "cell_type": "markdown",
   "metadata": {},
   "source": [
    "### Solution: Part 1"
   ]
  },
  {
   "cell_type": "code",
   "execution_count": 490,
   "metadata": {},
   "outputs": [
    {
     "name": "stdout",
     "output_type": "stream",
     "text": [
      "This tensor is of order 3 and consists of 40 elements.\n",
      "Sizes and names of its modes are (2, 4, 5) and ['mode-0', 'mode-1', 'mode-2'] respectively.\n"
     ]
    }
   ],
   "source": [
    "# Create tensor\n",
    "I , J , K = 2 , 4 , 5\n",
    "array = np.full((I , J , K), 1)\n",
    "X = Tensor(array)\n",
    "print(X)"
   ]
  },
  {
   "cell_type": "code",
   "execution_count": 491,
   "metadata": {},
   "outputs": [],
   "source": [
    "# Create matrices\n",
    "J_new, K_new = 5 , 3\n",
    "\n",
    "A = np.full((J_new, J), 1)\n",
    "B = np.full((K_new, K), 1)"
   ]
  },
  {
   "cell_type": "code",
   "execution_count": 492,
   "metadata": {},
   "outputs": [
    {
     "name": "stdout",
     "output_type": "stream",
     "text": [
      "Property 1: equivalence between the left and right hand side: True\n"
     ]
    }
   ],
   "source": [
    "# Validate property 1\n",
    "left = X.mode_n_product(A, mode=1, inplace=False).mode_n_product(B, mode=2, inplace=False)\n",
    "right = X.mode_n_product(B, mode=2, inplace=False).mode_n_product(A, mode=1, inplace=False)\n",
    "print(f'Property 1: equivalence between the left and right hand side: {left == right}')"
   ]
  },
  {
   "cell_type": "code",
   "execution_count": 493,
   "metadata": {},
   "outputs": [
    {
     "name": "stdout",
     "output_type": "stream",
     "text": [
      "Property 2: equivalence between the left and right hand side: True\n"
     ]
    }
   ],
   "source": [
    "# Validate property 2\n",
    "left = X.mode_n_product(A, mode=1, inplace=False).mode_n_product(B, mode=1, inplace=False)\n",
    "right = X.mode_n_product(np.matmul(B, A), mode=1, inplace=False)\n",
    "print(f'Property 2: equivalence between the left and right hand side: {left == right}')"
   ]
  },
  {
   "cell_type": "markdown",
   "metadata": {
    "toc-hr-collapsed": true
   },
   "source": [
    "### Solution: Part 2\n",
    "\n",
    "Use [LaTeX syntax](https://stackoverflow.com/questions/13208286/how-to-write-latex-in-ipython-notebook) for analytical deriviations for the second property below.\n"
   ]
  },
  {
   "cell_type": "code",
   "execution_count": 19,
   "metadata": {},
   "outputs": [
    {
     "data": {
      "text/latex": [
       "Property 2: In the case of mode-$n$ products, when the modes are identical, the operation adheres to the following equation:\n",
       "\n",
       "\\begin{equation}\n",
       "    \\underline{\\mathbf{X}} \\times_n \\mathbf{A} \\times_n \\mathbf{B} = \\underline{\\mathbf{X}} \\times_n (\\mathbf{B}\\mathbf{A})\n",
       "\\end{equation}\n",
       "\n",
       "Proof:\n",
       "Let us revisit the fundamental expression for mode-$n$ products:\n",
       "\\begin{equation}\n",
       "\\mathbf{\\underline{X}} \\times_n \\mathbf{A} = \\mathbf{\\underline{Y}} \\quad \\Leftrightarrow  \\quad \\mathbf{Y}_{(n)} = \\mathbf{A} \\mathbf{X}_{(n)}\\tag{2}\n",
       "\\end{equation}\n",
       "\n",
       "Similarly, Equation (2) can also hold as:\n",
       "\\begin{equation}\n",
       "    \\underline{\\mathbf{Y}} \\times_n \\mathbf{B} = \\mathbf{\\underline{Z}} \\quad \\Leftrightarrow  \\quad \\mathbf{Z}_{(n)} =\\mathbf{B} \\mathbf{Y}_{(n)}\\tag{3}\n",
       "\\end{equation}\n",
       "\n",
       "By substituting Equation (2) into Equation (3), we derive:\n",
       "\\begin{equation}\n",
       "   \\underbrace{\\underline{\\mathbf{X}}\\times_n \\mathbf{A}}_{\\underline{\\mathbf{Y}}} \\times_n \\mathbf{B}= \\mathbf{\\underline{Z}} \\quad \\Leftrightarrow  \\quad \\mathbf{Z}_{(n)} = \\mathbf{B} \\underbrace{\\mathbf{Y}_{(n)}}_{\\mathbf{A} \\mathbf{X}_{(n)}}= (\\mathbf{BA}) \\mathbf{X}_{(n)} \\tag{4}\n",
       "\\end{equation}\n",
       "\n",
       "According to Equation (2), We know that:\n",
       "\\begin{equation}\n",
       "    \\underline{\\mathbf{X}} \\times_n (\\mathbf{BA}) = \\mathbf{\\underline{Z}} \\quad \\Leftrightarrow  \\quad \\mathbf{Z}_{(n)} = (\\mathbf{BA} )\\mathbf{X}_{(n)}\\tag{5}\n",
       "\\end{equation}\n",
       "\n",
       "Therefore, we get\n",
       "\\begin{equation}\n",
       "    \\underline{\\mathbf{X}} \\times_n \\mathbf{A} \\times_n \\mathbf{B} = \\underline{\\mathbf{X}} \\times_n (\\mathbf{B}\\mathbf{A})\n",
       "\\end{equation}\n"
      ],
      "text/plain": [
       "<IPython.core.display.Latex object>"
      ]
     },
     "metadata": {},
     "output_type": "display_data"
    }
   ],
   "source": [
    "%%latex\n",
    "Property 2: In the case of mode-$n$ products, when the modes are identical, the operation adheres to the following equation:\n",
    "\n",
    "\\begin{equation}\n",
    "    \\underline{\\mathbf{X}} \\times_n \\mathbf{A} \\times_n \\mathbf{B} = \\underline{\\mathbf{X}} \\times_n (\\mathbf{B}\\mathbf{A})\n",
    "\\end{equation}\n",
    "\n",
    "Proof:\n",
    "Let us revisit the fundamental expression for mode-$n$ products:\n",
    "\\begin{equation}\n",
    "\\mathbf{\\underline{X}} \\times_n \\mathbf{A} = \\mathbf{\\underline{Y}} \\quad \\Leftrightarrow  \\quad \\mathbf{Y}_{(n)} = \\mathbf{A} \\mathbf{X}_{(n)}\\tag{2}\n",
    "\\end{equation}\n",
    "\n",
    "Similarly, Equation (2) can also hold as:\n",
    "\\begin{equation}\n",
    "    \\underline{\\mathbf{Y}} \\times_n \\mathbf{B} = \\mathbf{\\underline{Z}} \\quad \\Leftrightarrow  \\quad \\mathbf{Z}_{(n)} =\\mathbf{B} \\mathbf{Y}_{(n)}\\tag{3}\n",
    "\\end{equation}\n",
    "\n",
    "By substituting Equation (2) into Equation (3), we derive:\n",
    "\\begin{equation}\n",
    "   \\underbrace{\\underline{\\mathbf{X}}\\times_n \\mathbf{A}}_{\\underline{\\mathbf{Y}}} \\times_n \\mathbf{B}= \\mathbf{\\underline{Z}} \\quad \\Leftrightarrow  \\quad \\mathbf{Z}_{(n)} = \\mathbf{B} \\underbrace{\\mathbf{Y}_{(n)}}_{\\mathbf{A} \\mathbf{X}_{(n)}}= (\\mathbf{BA}) \\mathbf{X}_{(n)} \\tag{4}\n",
    "\\end{equation}\n",
    "\n",
    "According to Equation (2), We know that:\n",
    "\\begin{equation}\n",
    "    \\underline{\\mathbf{X}} \\times_n (\\mathbf{BA}) = \\mathbf{\\underline{Z}} \\quad \\Leftrightarrow  \\quad \\mathbf{Z}_{(n)} = (\\mathbf{BA} )\\mathbf{X}_{(n)}\\tag{5}\n",
    "\\end{equation}\n",
    "\n",
    "Therefore, we get\n",
    "\\begin{equation}\n",
    "    \\underline{\\mathbf{X}} \\times_n \\mathbf{A} \\times_n \\mathbf{B} = \\underline{\\mathbf{X}} \\times_n (\\mathbf{B}\\mathbf{A})\n",
    "\\end{equation}\n"
   ]
  }
 ],
 "metadata": {
  "kernelspec": {
   "display_name": "base",
   "language": "python",
   "name": "python3"
  },
  "language_info": {
   "codemirror_mode": {
    "name": "ipython",
    "version": 3
   },
   "file_extension": ".py",
   "mimetype": "text/x-python",
   "name": "python",
   "nbconvert_exporter": "python",
   "pygments_lexer": "ipython3",
   "version": "3.7.10"
  },
  "toc-autonumbering": false,
  "toc-showcode": false,
  "toc-showmarkdowntxt": false
 },
 "nbformat": 4,
 "nbformat_minor": 2
}
